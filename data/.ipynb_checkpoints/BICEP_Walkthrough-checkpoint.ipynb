{
 "cells": [
  {
   "cell_type": "markdown",
   "id": "7485f148-d982-4ac5-89a7-2fd14a4ef770",
   "metadata": {},
   "source": [
    "# BICEP Walkthrough\n",
    "This notebook aims to give a step-by-step guide to running BICEP, including downloading the supporting databases and tools, and annotating the variants. \n",
    "\n",
    "\n",
    "# Table of Contents\n",
    "\n",
    "1. [Set up the environment and download the required data](#Set-up-BICEP-environment) \n",
    "2. [Prepare the prior regression data](#Prepare-prior-regression-data-for-BICEP) \n",
    "3. [Run BICEP](#Run-BICEP-on-the-test-pedigree) \n"
   ]
  },
  {
   "cell_type": "markdown",
   "id": "6d2c3643-f2f8-496f-88d3-b27758eb30b3",
   "metadata": {},
   "source": [
    "# Set up BICEP environment\n",
    "## Download databases/resources\n",
    "\n",
    "Download the vep cache: "
   ]
  },
  {
   "cell_type": "code",
   "execution_count": null,
   "id": "615d040f-5d56-4c53-99c9-44e676a20300",
   "metadata": {},
   "outputs": [],
   "source": [
    "! mkdir vep_cache\n",
    "\n",
    "! vep_install -a cf -s homo_sapiens -y GRCh38 -c vep_cache --CONVERT"
   ]
  },
  {
   "cell_type": "markdown",
   "id": "a331680f-2821-41c2-870c-049fba310730",
   "metadata": {},
   "source": [
    "Download the FASTA file for GRCh38 (3.1Gb in total):"
   ]
  },
  {
   "cell_type": "code",
   "execution_count": null,
   "id": "4654527a-0a9b-4b18-8518-95e947710673",
   "metadata": {},
   "outputs": [],
   "source": [
    "! wget http://ftp.1000genomes.ebi.ac.uk/vol1/ftp/technical/reference/GRCh38_reference_genome/GRCh38_full_analysis_set_plus_decoy_hla.fa"
   ]
  },
  {
   "cell_type": "markdown",
   "id": "bcd17b47-17cf-486a-8ace-6405e9be9ad9",
   "metadata": {},
   "source": [
    "Download the gnomAD [v2.1.1](https://gnomad.broadinstitute.org/downloads#v2-liftover) whole exome data lifted to GRCh38 (85Gb in total):"
   ]
  },
  {
   "cell_type": "code",
   "execution_count": null,
   "id": "89b20e44-3cec-43ae-be4f-618f1ae5f422",
   "metadata": {},
   "outputs": [],
   "source": [
    "! wget https://storage.googleapis.com/gcp-public-data--gnomad/release/2.1.1/liftover_grch38/vcf/exomes/gnomad.exomes.r2.1.1.sites.liftover_grch38.vcf.bgz -O gnomad.exomes.r2.1.1.sites.liftover_grch38.vcf.bz\n",
    "\n",
    "! wget https://storage.googleapis.com/gcp-public-data--gnomad/release/2.1.1/liftover_grch38/vcf/exomes/gnomad.exomes.r2.1.1.sites.liftover_grch38.vcf.bgz.tbi -O gnomad.exomes.r2.1.1.sites.liftover_grch38.vcf.gz.tbi"
   ]
  },
  {
   "cell_type": "markdown",
   "id": "1cc9a71b-8771-4df8-847c-6c8bdbf41c9f",
   "metadata": {},
   "source": [
    "Download the gnomAD [v4.1](https://gnomad.broadinstitute.org/downloads#v4) joint whole exome and whole genome data aligned to GRCh38 (817Gb in total). Note that the data is gives split by chromosome, which can be merged into one file:"
   ]
  },
  {
   "cell_type": "code",
   "execution_count": null,
   "id": "c56560d6-c684-4129-ae76-719ac558b557",
   "metadata": {},
   "outputs": [],
   "source": [
    "! for C in {1..22} X Y ; do echo ${C} ; wget https://storage.googleapis.com/gcp-public-data--gnomad/release/4.1/vcf/joint/gnomad.joint.v4.1.sites.chr${C}.vcf.bgz -O gnomad.joint.v4.1.sites.chr${C}.vcf.gz ; wget https://storage.googleapis.com/gcp-public-data--gnomad/release/4.1/vcf/joint/gnomad.joint.v4.1.sites.chr${C}.vcf.bgz.tbi -O gnomad.joint.v4.1.sites.chr${C}.vcf.gz.tbi  ; done \n",
    "\n",
    "! bcftools concat $( ls gnomad.joint.v4.1.sites.chr*.vcf.gz | sort -V ) -Oz --threads 20 > gnomad.joint.v4.1.sites.all.vcf.gz"
   ]
  },
  {
   "cell_type": "markdown",
   "id": "4edb0703-17a6-4402-a3f6-fe3913d4fde6",
   "metadata": {},
   "source": [
    "Download [dbNSFP](https://sites.google.com/site/jpopgen/dbNSFP) v4.1 for missense variant annotations (28Gb in total): "
   ]
  },
  {
   "cell_type": "code",
   "execution_count": null,
   "id": "df0511d3-d1be-4dbe-a2eb-3c6918b0e843",
   "metadata": {},
   "outputs": [],
   "source": [
    "! wget https://dbnsfp.s3.amazonaws.com/dbNSFP4.1a.zip\n",
    "\n",
    "! unzip dbNSFP4.1a.zip"
   ]
  },
  {
   "cell_type": "markdown",
   "id": "ec6e9f28-f66f-4a68-8aaa-6eadc09704f3",
   "metadata": {},
   "source": [
    "Download [CADD](https://cadd.bihealth.org/) v1.6 deleteriousness metric for SNVs and indels:"
   ]
  },
  {
   "cell_type": "code",
   "execution_count": null,
   "id": "cd737b2a-343b-439c-9bef-5613c70b6943",
   "metadata": {},
   "outputs": [],
   "source": [
    "! wget https://krishna.gs.washington.edu/download/CADD/v1.6/GRCh38/whole_genome_SNVs.tsv.gz\n",
    "! wget https://krishna.gs.washington.edu/download/CADD/v1.6/GRCh38/whole_genome_SNVs.tsv.gz.tbi\n",
    "\n",
    "! wget https://krishna.gs.washington.edu/download/CADD/v1.6/GRCh38/gnomad.genomes.r3.0.indel.tsv.gz\n",
    "! wget https://krishna.gs.washington.edu/download/CADD/v1.6/GRCh38/gnomad.genomes.r3.0.indel.tsv.gz.tbi"
   ]
  },
  {
   "cell_type": "markdown",
   "id": "c3de00cf-b648-4216-8ea3-75d267e10397",
   "metadata": {},
   "source": [
    "## Download ClinVar data for the prior\n",
    "\n",
    "To generate a prior odds for causality, we fit logistic regression models to pathogenic and benign variants from ClinVar. First we download the data from ClinVar in VCF format. Note: the weekly freeze shown here is the one used in the BICEP manuscript and for all evaluation, but any recernt freeze will work also. "
   ]
  },
  {
   "cell_type": "code",
   "execution_count": null,
   "id": "6f98d2f2-8224-4b7e-a2d5-eb2f78cd8b7a",
   "metadata": {
    "scrolled": true
   },
   "outputs": [],
   "source": [
    "! wget https://ftp.ncbi.nlm.nih.gov/pub/clinvar/vcf_GRCh38/weekly/clinvar_20231126.vcf.gz -O clinvar_20231126.GRCh38.vcf.gz\n",
    "! wget https://ftp.ncbi.nlm.nih.gov/pub/clinvar/vcf_GRCh38/weekly/clinvar_20231126.vcf.gz.tbi -O clinvar_20231126.GRCh38.vcf.gz.tbi"
   ]
  },
  {
   "cell_type": "markdown",
   "id": "23c95403-ccc5-48e3-9a1a-68471d2d34c2",
   "metadata": {},
   "source": [
    "Count the total number of variants downloaded. "
   ]
  },
  {
   "cell_type": "code",
   "execution_count": 8,
   "id": "8daac0cb-3c67-412e-ad08-18c93ecea392",
   "metadata": {},
   "outputs": [
    {
     "name": "stdout",
     "output_type": "stream",
     "text": [
      "2336658\n"
     ]
    }
   ],
   "source": [
    "!bcftools query -f \"%ID\\n\" clinvar_20231126.GRCh38.vcf.gz | wc -l"
   ]
  },
  {
   "cell_type": "markdown",
   "id": "f037258c-9880-45c3-bd07-c15db3581946",
   "metadata": {},
   "source": [
    "\n",
    "Extract pathogenic or benign variants from ClinVar. For single nucleotide variants (SNVs), we require that multiple submitters reviewed the clinical significance, whereas for short insertion/deletions (indels) we relax this to either single or multiple submitters. In either case, we also require that there are no conflicts in clinical significance and that the variant impacts one gene only. Finally, change the chromosome notation to \"chrN\" instead of just \"N\", and sort the final VCF file. "
   ]
  },
  {
   "cell_type": "code",
   "execution_count": 20,
   "id": "f1d5f6d1-0b99-4ade-a7ac-fe8d31cb0f38",
   "metadata": {},
   "outputs": [],
   "source": [
    "! bcftools view -i '( (CLNVC==\"single_nucleotide_variant\" && CLNREVSTAT~\"multiple_submitters\") || \\\n",
    "    (CLNVC==\"Indel\" && ( CLNREVSTAT~\"single_submitter\" || CLNREVSTAT~\"multiple_submitters\" )) ) && \\\n",
    "    ( CLNSIG~\"athogenic\" || CLNSIG~\"enign\" ) && \\\n",
    "    CLNSIG!~\"Conflicting\" && GENEINFO!~\"|\"' clinvar_20231126.GRCh38.vcf.gz | \\\n",
    "    awk '{if($0 !~ /^#/) print \"chr\"$0; else print $0}' | \\\n",
    "    sed -e 's/^chrMT/chrM/g ; s/##contig=<ID=MT>/##contig=<ID=M>/g ; s/##contig=<ID=/##contig=<ID=chr/g' | \\\n",
    "    awk '$1 ~ /^#/ {print $0;next} {print $0 | \"sort -k1,1 -k2,2n\"}' > clinvar_20231126.GRCh38.PATH_BEN.vcf"
   ]
  },
  {
   "cell_type": "markdown",
   "id": "5c918bfb-4960-4b24-8239-83dbff9802ae",
   "metadata": {},
   "source": [
    "Compress, index, and count the total number of variants"
   ]
  },
  {
   "cell_type": "code",
   "execution_count": 21,
   "id": "eaebe50b-233e-420b-98b3-cfd297170d1c",
   "metadata": {},
   "outputs": [
    {
     "name": "stdout",
     "output_type": "stream",
     "text": [
      "155938\n"
     ]
    }
   ],
   "source": [
    "! bgzip -f clinvar_20231126.GRCh38.PATH_BEN.vcf\n",
    "! tabix -f clinvar_20231126.GRCh38.PATH_BEN.vcf.gz\n",
    "! bcftools query -f \"%ID\\n\" clinvar_20231126.GRCh38.PATH_BEN.vcf.gz | wc -l"
   ]
  },
  {
   "cell_type": "markdown",
   "id": "32d20fff-2a2d-426f-8164-bcda2d1496a1",
   "metadata": {},
   "source": [
    "Count the number of benign and pathogenic variants"
   ]
  },
  {
   "cell_type": "code",
   "execution_count": 22,
   "id": "9497fbed-c0c4-4b13-b50c-81b09bd9cf08",
   "metadata": {},
   "outputs": [
    {
     "name": "stdout",
     "output_type": "stream",
     "text": [
      " 124720 BENIGN\n",
      "  31218 PATHOGENIC\n"
     ]
    }
   ],
   "source": [
    "! bcftools query -f \"%CLNSIG\\n\" clinvar_20231126.GRCh38.PATH_BEN.vcf.gz | awk '{ SIG = ($1 ~ /enign/ ? \"BENIGN\" : \"PATHOGENIC\") ; print SIG }' | sort | uniq -c "
   ]
  },
  {
   "cell_type": "markdown",
   "id": "cc938bff-f770-4c7b-b079-57fe0f6764d0",
   "metadata": {},
   "source": [
    "## Remove ClinVar variants in predictor training sets\n",
    "\n",
    "We use the MPC score ([Samocha et al., biorXiv, 2019](https://www.biorxiv.org/content/10.1101/2024.04.11.588920v1)) as a predictor in our missense regression model. However, some ClinVar variants were used to generate this score, and so these must be removed to minimise a circularity bias ([Grimm et al., Hum Mutat, 2015](https://onlinelibrary.wiley.com/doi/full/10.1002/humu.22768)). From the supplementary data, we get the ClinVar training variants and convert them to BED format. As a unique ID, we annotate each variants with their \"CHROM_POS_REF_ALT\" values. "
   ]
  },
  {
   "cell_type": "code",
   "execution_count": 14,
   "id": "0c956a57-5f91-491c-b764-2c1d02b78849",
   "metadata": {
    "collapsed": true,
    "jupyter": {
     "outputs_hidden": true
    }
   },
   "outputs": [
    {
     "name": "stdout",
     "output_type": "stream",
     "text": [
      "--2024-09-17 11:37:50--  https://www.biorxiv.org/highwire/filestream/44323/field_highwire_adjunct_files/4/148353-5.xlsx\n",
      "Resolving www.biorxiv.org (www.biorxiv.org)... 172.64.151.211, 104.18.36.45\n",
      "Connecting to www.biorxiv.org (www.biorxiv.org)|172.64.151.211|:443... connected.\n",
      "HTTP request sent, awaiting response... 302 Found\n",
      "Location: https://www.biorxiv.org/content/biorxiv/suppl/2017/06/12/148353.DC1/148353-5.xlsx [following]\n",
      "--2024-09-17 11:37:50--  https://www.biorxiv.org/content/biorxiv/suppl/2017/06/12/148353.DC1/148353-5.xlsx\n",
      "Reusing existing connection to www.biorxiv.org:443.\n",
      "HTTP request sent, awaiting response... 200 OK\n",
      "Length: unspecified [application/vnd.openxmlformats-officedocument.spreadsheetml.sheet]\n",
      "Saving to: ‘148353-5.xlsx.1’\n",
      "\n",
      "148353-5.xlsx.1         [ <=>                ]  94.64K  --.-KB/s    in 0.04s   \n",
      "\n",
      "2024-09-17 11:37:51 (2.48 MB/s) - ‘148353-5.xlsx.1’ saved [96914]\n",
      "\n",
      "Loading required package: xlsx\n"
     ]
    }
   ],
   "source": [
    "! wget https://www.biorxiv.org/highwire/filestream/44323/field_highwire_adjunct_files/4/148353-5.xlsx"
   ]
  },
  {
   "cell_type": "code",
   "execution_count": null,
   "id": "12cc7014-0e1d-40fa-bc87-2f763ad36afc",
   "metadata": {},
   "outputs": [],
   "source": [
    "import warnings\n",
    "import pandas as pd\n",
    "warnings.simplefilter(\"ignore\")\n",
    "df = pd.DataFrame(pd.read_excel(\"148353-5.xlsx\", sheet_name=1))\n",
    "df.to_csv(\"MPC.train.txt\", index=False, sep=\"\\t\", na_rep=\".\")"
   ]
  },
  {
   "cell_type": "markdown",
   "id": "bd337e3c-8baf-451b-bbd7-26c811056627",
   "metadata": {},
   "source": [
    "Since the MPC score was generated on build GRCh37, we will use liftOver to convert it to GRCh38. First we will remove any variants at conversion-unstable positions ([Ormond et al., Brief Bioinform, 2021](https://academic.oup.com/bib/article-lookup/doi/10.1093/bib/bbab069)) prior to liftOver. "
   ]
  },
  {
   "cell_type": "code",
   "execution_count": null,
   "id": "dc71d32c-e6b9-4101-8c8b-ee2bac0fe0ef",
   "metadata": {},
   "outputs": [],
   "source": [
    "! wget https://raw.githubusercontent.com/cathaloruaidh/genomeBuildConversion/master/CUP_FILES/FASTA_BED.ALL_GRCh37.novel_CUPs.bed\n",
    "\n",
    "! wget https://hgdownload.soe.ucsc.edu/goldenPath/hg19/liftOver/hg19ToHg38.over.chain.gz\n",
    "\n",
    "! bedtools subtract -a MPC.train.bed -b FASTA_BED.ALL_GRCh37.novel_CUPs.bed > MPC.train.stable.bed\n",
    "\n",
    "! liftOver MPC.train.stable.bed hg19ToHg38.over.chain.gz MPC.train.stable.lift_GRCh38.bed MPC.train.stable.reject_GRCh38.bed"
   ]
  },
  {
   "cell_type": "markdown",
   "id": "53f82067-08e1-43cc-becb-5de41f4d08df",
   "metadata": {},
   "source": [
    "For the MPC training variants, get the ClinVar ID from the current download. "
   ]
  },
  {
   "cell_type": "code",
   "execution_count": 25,
   "id": "5dc8e49a-ac53-4227-b902-70166fdcf256",
   "metadata": {},
   "outputs": [],
   "source": [
    "! tr '_' '\\t' < MPC.train.stable.lift_GRCh38.bed | \\\n",
    "    awk '{ print $1 \"_\" $3 \"_\" $6 \"_\" $7 }' | \\\n",
    "    sort | \\\n",
    "    join -j1 - <( bcftools query -f \"%CHROM\\_%POS\\_%REF\\_%ALT\\t%ID\\n\" clinvar_20231126.GRCh38.PATH_BEN.vcf.gz | sort ) | \\\n",
    "    awk '{print $2}' > MPC.train.stable.lift_GRCh38.inClinVar.txt"
   ]
  },
  {
   "cell_type": "markdown",
   "id": "a71e781a-440f-4965-b3b7-fbaebde02cfd",
   "metadata": {},
   "source": [
    "Get a list of ClinVar IDs and remove the MPC training variants. At this stage, ignore variants with multiple functional consequences listed for the gene. "
   ]
  },
  {
   "cell_type": "code",
   "execution_count": 30,
   "id": "ea48690c-f9ef-4bd5-a269-9a81d211de87",
   "metadata": {},
   "outputs": [],
   "source": [
    "! bcftools query -f \"%ID\\t%MC\\n\" clinvar_20231126.GRCh38.PATH_BEN.vcf.gz | \\\n",
    "    awk '$2 !~ /,/{print $1}' > clinvar_20231126.GRCh38.PATH_BEN.single.IDs.txt\n",
    "\n",
    "! grep -w -v -f MPC.train.stable.lift_GRCh38.inClinVar.txt clinvar_20231126.GRCh38.PATH_BEN.single.IDs.txt > clinvar_20231126.GRCh38.PATH_BEN.single.IDs.noMPC.txt"
   ]
  },
  {
   "cell_type": "markdown",
   "id": "df61b674-5d18-423b-b4ec-c2b19f913060",
   "metadata": {},
   "source": [
    "Subset the ClinVar data to these variants. Index the output. "
   ]
  },
  {
   "cell_type": "code",
   "execution_count": 31,
   "id": "eb033066-7d82-44dc-ace6-7cc7583c6d81",
   "metadata": {},
   "outputs": [],
   "source": [
    "! bcftools view -i 'ID=@clinvar_20231126.GRCh38.PATH_BEN.single.IDs.noMPC.txt' -Oz clinvar_20231126.GRCh38.PATH_BEN.vcf.gz > clinvar_20231126.GRCh38.PATH_BEN.single.vcf.gz\n",
    "\n",
    "! tabix -f clinvar_20231126.GRCh38.PATH_BEN.single.vcf.gz"
   ]
  },
  {
   "cell_type": "markdown",
   "id": "020e7657-e6ca-410e-8618-91b42a4d5119",
   "metadata": {},
   "source": [
    "Remove unused ClinVar annotations to save space (not a necessary step, but the final file can be large depending on the required number of annotations). "
   ]
  },
  {
   "cell_type": "code",
   "execution_count": null,
   "id": "f91e25ff-dc10-42aa-ae0c-e4e78eceeca9",
   "metadata": {},
   "outputs": [],
   "source": [
    "! bcftools annotate -x INFO/AF_ESP,INFO/AF_EXAC,INFO/AF_TGP,INFO/CLNDN,INFO/CLNDNINCL,INFO/CLNDISDB,INFO/CLNDISDBINCL,INFO/CLNHGVS,INFO/CLNSIGCONF,INFO/CLNSIGINCL,INFO/CLNVCSO,INFO/CLNVI,INFO/DBVARID -Oz clinvar_20231126.GRCh38.PATH_BEN.single.vcf.gz > clinvar_20231126.GRCh38.PATH_BEN.single.strip.vcf.gz\n",
    "\n",
    "! tabix -f clinvar_20231126.GRCh38.PATH_BEN.single.strip.vcf.gz"
   ]
  },
  {
   "cell_type": "markdown",
   "id": "608cbeca-3ad5-4f7f-9ed0-c0f9d268d208",
   "metadata": {},
   "source": [
    "Count the number of benign and pathogenic variants in the regression data. "
   ]
  },
  {
   "cell_type": "code",
   "execution_count": 34,
   "id": "b7e11621-1253-4471-9ddb-5aa562f4f177",
   "metadata": {},
   "outputs": [
    {
     "name": "stdout",
     "output_type": "stream",
     "text": [
      " 103891 BENIGN\n",
      "  25267 PATHOGENIC\n"
     ]
    }
   ],
   "source": [
    "! bcftools query -f \"%CLNSIG\\n\" clinvar_20231126.GRCh38.PATH_BEN.single.strip.vcf.gz | awk '{ SIG = ($1 ~ /enign/ ? \"BENIGN\" : \"PATHOGENIC\") ; print SIG }' | sort | uniq -c "
   ]
  },
  {
   "cell_type": "markdown",
   "id": "8982ae52-858e-49e0-89aa-223b0234cf33",
   "metadata": {},
   "source": [
    "## Annotate with vep\n",
    "\n",
    "We assume that the annotation databases (CADD, gnomAD, dbNSFP) are downloaded and accessible from the current directory (we use symbolic links for the purposes of this notebook). In our annotation, we subset the annotations to the canonical transcript of the overlapped gene. We use multiple CPU cores to speed up this process (controlled by the `--fork` parameter), but it may still take several hours depending on the number of annotations selected. The vep internal annotations are stored in the `cache` directory, again referenced here with a symbolic link. \n",
    "\n",
    "Any additional annotation features can be added at this stage. "
   ]
  },
  {
   "cell_type": "code",
   "execution_count": null,
   "id": "66212642-444e-459a-988d-6191e588bdeb",
   "metadata": {},
   "outputs": [],
   "source": [
    "! ./vep -i clinvar_20231126.GRCh38.PATH_BEN.single.strip.vcf.gz \\\n",
    "    --dir cache/ \\\n",
    "    --force_overwrite \\\n",
    "    --vcf \\\n",
    "    -o clinvar_20231126.GRCh38.PATH_BEN.single.strip.vep.vcf \\\n",
    "    --assembly GRCh38 \\\n",
    "    --fasta GRCh38_full_analysis_set_plus_decoy_hla.fa \\\n",
    "    --fork 20 \\\n",
    "    --offline \\\n",
    "    --symbol \\\n",
    "    --canonical \\\n",
    "    --no_check_variants_order \\\n",
    "    --plugin CADD,whole_genome_SNVs.tsv.gz,gnomad.genomes.r3.0.indel.tsv.gz \\\n",
    "    --custom gnomad.exomes.r2.1.1.sites.liftover_grch38.vcf.gz,gnomAD_v2_exome,vcf,exact,0,AF_popmax,AF_afr,AF_amr,AF_asj,AF_eas,AF_fin,AF_nfe,AF_oth,AF_sas \\\n",
    "    --custom gnomad.joint.v4.1.sites.all.vcf.gz,gnomAD_v4_joint,vcf,exact,0,fafmax_faf95_max_joint,fafmax_faf99_max_joint,AF_grpmax_joint,AF_joint_nfe,faf95_joint_nfe,faf99_joint_nfe  \\\n",
    "    --plugin dbNSFP,dbNSFP4.1a_grch38.gz,Ensembl_transcriptid,SIFT_score,Polyphen2_HDIV_score,LRT_score,MutationTaster_score,MutationAssessor_score,MPC_score,REVEL_score,FATHMM_score,PROVEAN_score,MetaSVM_score,MetaLR_score,MutPred_score"
   ]
  },
  {
   "cell_type": "markdown",
   "id": "94a2a9dd-5e9c-40cd-82ef-1a6ccb30499a",
   "metadata": {},
   "source": [
    "Finally, compress and index the output. "
   ]
  },
  {
   "cell_type": "code",
   "execution_count": null,
   "id": "35489f9d-aedf-4c86-a1c0-81354e0c2f25",
   "metadata": {},
   "outputs": [],
   "source": [
    "bgzip -f clinvar_20231126.GRCh38.PATH_BEN.single.strip.vep.vcf\n",
    "tabix -f clinvar_20231126.GRCh38.PATH_BEN.single.strip.vep.vcf.gz"
   ]
  },
  {
   "cell_type": "markdown",
   "id": "8d55542b-6f52-45a2-9b25-d83c7c929a77",
   "metadata": {},
   "source": [
    "# Run BICEP on the test pedigree\n",
    "\n",
    "A similar code to the above can be used to annotate the pedigree variants. "
   ]
  },
  {
   "cell_type": "code",
   "execution_count": null,
   "id": "576670e8-15d4-43c6-94d9-fe9a75958a2f",
   "metadata": {},
   "outputs": [],
   "source": [
    "! cd ../test/\n",
    "\n",
    "! ./vep -i F1.vcf \\\n",
    "    --dir ../data/cache/ \\\n",
    "    --force_overwrite \\\n",
    "    --vcf \\\n",
    "    -o F1.vep.vcf \\\n",
    "    --assembly GRCh38 \\\n",
    "    --fasta ../data/GRCh38_full_analysis_set_plus_decoy_hla.fa \\\n",
    "    --fork 20 \\\n",
    "    --offline \\\n",
    "    --symbol \\\n",
    "    --canonical \\\n",
    "    --no_check_variants_order \\\n",
    "    --plugin CADD,../data/whole_genome_SNVs.tsv.gz,../data/gnomad.genomes.r3.0.indel.tsv.gz \\\n",
    "    --custom ../data/gnomad.exomes.r2.1.1.sites.liftover_grch38.vcf.gz,gnomAD_v2_exome,vcf,exact,0,AF_popmax,AF_afr,AF_amr,AF_asj,AF_eas,AF_fin,AF_nfe,AF_oth,AF_sas \\\n",
    "    --custom ../data/gnomad.joint.v4.1.sites.all.vcf.gz,gnomAD_v4_joint,vcf,exact,0,fafmax_faf95_max_joint,fafmax_faf99_max_joint,AF_grpmax_joint,AF_joint_nfe,faf95_joint_nfe,faf99_joint_nfe  \\\n",
    "    --plugin dbNSFP,../data/dbNSFP4.1a_grch38.gz,Ensembl_transcriptid,SIFT_score,Polyphen2_HDIV_score,LRT_score,MutationTaster_score,MutationAssessor_score,MPC_score,REVEL_score,FATHMM_score,PROVEAN_score,MetaSVM_score,MetaLR_score,MutPred_score"
   ]
  },
  {
   "cell_type": "markdown",
   "id": "2e1cf285-040f-48cf-9a7a-c0997ef0038d",
   "metadata": {},
   "source": [
    "Now run BICEP on the data. "
   ]
  },
  {
   "cell_type": "code",
   "execution_count": 1,
   "id": "f60adada-6f05-458e-9676-608f3318f70c",
   "metadata": {},
   "outputs": [
    {
     "name": "stdout",
     "output_type": "stream",
     "text": [
      "Traceback (most recent call last):\n",
      "  File \"/home/shared/cathal/github/BICEP/data/../src/BICEP.py\", line 18, in <module>\n",
      "    import Prior_Train\n",
      "  File \"/home/shared/cathal/github/BICEP/src/Prior_Train.py\", line 11, in <module>\n",
      "    import matplotlib.pyplot as plt\n",
      "ModuleNotFoundError: No module named 'matplotlib'\n"
     ]
    }
   ],
   "source": [
    "! cd ../test/\n",
    "\n",
    "! ../src/BICEP.py All \\\n",
    "    --vcf F1.vep.vcf \\\n",
    "\t--fam F1.fam \\\n",
    "\t--prefix F1.test \\\n",
    "    --clinvar ../data/clinvar_20231126.GRCh38.PATH_BEN.single.strip.vep.vcf.gz \\\n",
    "\t--cores 1 \\\n",
    "\t--highlight \"chr1_1355461_A_C\" \\\n",
    "\t--top 20"
   ]
  },
  {
   "cell_type": "code",
   "execution_count": null,
   "id": "4f4a2d0f-86eb-44e1-a54d-55f7b3905efd",
   "metadata": {},
   "outputs": [],
   "source": [
    "The following image file should be generated: "
   ]
  },
  {
   "cell_type": "code",
   "execution_count": 2,
   "id": "7ed04823-bd6f-4990-8281-4e0e4744828d",
   "metadata": {},
   "outputs": [
    {
     "name": "stdout",
     "output_type": "stream",
     "text": [
      "\n",
      "CondaError: Run 'conda init' before 'conda activate'\n",
      "\n"
     ]
    }
   ],
   "source": [
    "! conda activate bicep"
   ]
  },
  {
   "cell_type": "code",
   "execution_count": null,
   "id": "b2cc264c-7470-4b49-8f52-02be2fe6e673",
   "metadata": {},
   "outputs": [],
   "source": [
    "from IPython.display import display, HTML\n",
    "HTML(filename='F1.BICEP.html')"
   ]
  }
 ],
 "metadata": {
  "kernelspec": {
   "display_name": "Python 3 (ipykernel)",
   "language": "python",
   "name": "python3"
  },
  "language_info": {
   "codemirror_mode": {
    "name": "ipython",
    "version": 3
   },
   "file_extension": ".py",
   "mimetype": "text/x-python",
   "name": "python",
   "nbconvert_exporter": "python",
   "pygments_lexer": "ipython3",
   "version": "3.11.5"
  }
 },
 "nbformat": 4,
 "nbformat_minor": 5
}
